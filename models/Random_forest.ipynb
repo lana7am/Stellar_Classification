{
  "cells": [
    {
      "cell_type": "markdown",
      "metadata": {
        "id": "DfMfm7HulVgV"
      },
      "source": [
        "# Random Forest"
      ]
    },
    {
      "cell_type": "markdown",
      "metadata": {
        "id": "D4P2BSNjlY95"
      },
      "source": [
        "## Loading Packages and Reading Data"
      ]
    },
    {
      "cell_type": "raw",
      "metadata": {},
      "source": [
        "---\n",
        "title: \"Random Forest\"\n",
        "format: \n",
        "  html:\n",
        "    code-fold: true\n",
        "jupyter: python3\n",
        "---"
      ]
    },
    {
      "cell_type": "code",
      "execution_count": 31,
      "metadata": {
        "id": "PO_2RpLcO9Ov"
      },
      "outputs": [],
      "source": [
        "# utility packages\n",
        "import matplotlib.pyplot as plt\n",
        "import numpy as np\n",
        "import pandas as pd\n",
        "\n",
        "\n",
        "# modeling packages\n",
        "from sklearn.model_selection import train_test_split, KFold, RepeatedKFold, cross_val_score\n",
        "from sklearn.model_selection import GridSearchCV\n",
        "from sklearn.metrics import mean_squared_error, roc_auc_score\n",
        "from sklearn.ensemble import RandomForestClassifier\n",
        "from sklearn import metrics"
      ]
    },
    {
      "cell_type": "code",
      "execution_count": 4,
      "metadata": {
        "id": "iqLIgnLMPJZz"
      },
      "outputs": [],
      "source": [
        "# read the dataset\n",
        "df = pd.read_csv('./star_classification 2.csv')\n",
        "\n",
        "# encode values for class column\n",
        "df.replace({'class': {'GALAXY': 0, 'STAR': 1, 'QSO':2}}, inplace=True)\n",
        "\n",
        "# remove all columns containing ID at the end\n",
        "cleaned = df.drop(df.filter(regex='ID$').columns, axis=1)\n",
        "# drop the date column\n",
        "cleaned = cleaned.drop('MJD', axis=1)\n",
        "\n",
        "cleaned = cleaned.reset_index()\n",
        "\n",
        "# make the X and y varialbes\n",
        "X = cleaned.drop('class', axis=1)\n",
        "y = cleaned['class']\n",
        "\n",
        "# split the dataset\n",
        "X_train, X_test, y_train, y_test = train_test_split(X, y, train_size=0.7, random_state=123)"
      ]
    },
    {
      "cell_type": "markdown",
      "metadata": {
        "id": "KaIu9FxWqI5I"
      },
      "source": [
        "## Modeling"
      ]
    },
    {
      "cell_type": "code",
      "execution_count": null,
      "metadata": {
        "id": "CKj7uIPEpXFa"
      },
      "outputs": [],
      "source": [
        "# Trial 1\n",
        "# Trying number of tress 10, 20, 30, ..."
      ]
    },
    {
      "cell_type": "code",
      "execution_count": 10,
      "metadata": {
        "colab": {
          "base_uri": "https://localhost:8080/"
        },
        "id": "ToLWITRqPW_w",
        "outputId": "394cd805-0525-488a-a87c-1970235bc2fa"
      },
      "outputs": [
        {
          "name": "stdout",
          "output_type": "stream",
          "text": [
            "#10 Accuracy: 0.9771333333333333\n",
            "#20 Accuracy: 0.9789\n",
            "#30 Accuracy: 0.9789333333333333\n",
            "#40 Accuracy: 0.9793666666666667\n",
            "#50 Accuracy: 0.9789\n",
            "#60 Accuracy: 0.9791666666666666\n",
            "#70 Accuracy: 0.9791666666666666\n",
            "#80 Accuracy: 0.9791\n",
            "#90 Accuracy: 0.9792\n",
            "#100 Accuracy: 0.9793333333333333\n",
            "#110 Accuracy: 0.9791\n",
            "#120 Accuracy: 0.9791333333333333\n",
            "#130 Accuracy: 0.9789333333333333\n",
            "#140 Accuracy: 0.9793666666666667\n",
            "#150 Accuracy: 0.9788333333333333\n",
            "#160 Accuracy: 0.9796666666666667\n",
            "#170 Accuracy: 0.9790333333333333\n",
            "#180 Accuracy: 0.9790333333333333\n",
            "#190 Accuracy: 0.9791\n",
            "#200 Accuracy: 0.9794666666666667\n",
            "#210 Accuracy: 0.9794\n",
            "#220 Accuracy: 0.9793333333333333\n",
            "#230 Accuracy: 0.9792\n",
            "#240 Accuracy: 0.9795\n",
            "#250 Accuracy: 0.9792666666666666\n",
            "#260 Accuracy: 0.9793\n",
            "#270 Accuracy: 0.9792333333333333\n",
            "#280 Accuracy: 0.9794\n",
            "#290 Accuracy: 0.9795333333333334\n",
            "#300 Accuracy: 0.9792\n",
            "#310 Accuracy: 0.9792666666666666\n",
            "#320 Accuracy: 0.9794666666666667\n",
            "#330 Accuracy: 0.9791\n",
            "#340 Accuracy: 0.9792333333333333\n",
            "#350 Accuracy: 0.9793\n",
            "#360 Accuracy: 0.9795333333333334\n",
            "#370 Accuracy: 0.9794333333333334\n",
            "#380 Accuracy: 0.9792666666666666\n",
            "#390 Accuracy: 0.9791333333333333\n",
            "#400 Accuracy: 0.9791666666666666\n",
            "#410 Accuracy: 0.9789666666666667\n",
            "#420 Accuracy: 0.9793666666666667\n",
            "#430 Accuracy: 0.9795666666666667\n",
            "#440 Accuracy: 0.9794333333333334\n",
            "#450 Accuracy: 0.9797\n",
            "#460 Accuracy: 0.9792\n",
            "#470 Accuracy: 0.9796\n",
            "#480 Accuracy: 0.9794333333333334\n",
            "#490 Accuracy: 0.9790333333333333\n",
            "#500 Accuracy: 0.9793666666666667\n",
            "#510 Accuracy: 0.9792\n",
            "#520 Accuracy: 0.9794\n",
            "#530 Accuracy: 0.9792666666666666\n",
            "#540 Accuracy: 0.9792666666666666\n",
            "#550 Accuracy: 0.9794\n",
            "#560 Accuracy: 0.9795333333333334\n",
            "#570 Accuracy: 0.9794\n",
            "#580 Accuracy: 0.9792666666666666\n",
            "#590 Accuracy: 0.9793333333333333\n",
            "#600 Accuracy: 0.9790333333333333\n",
            "#610 Accuracy: 0.9795\n",
            "#620 Accuracy: 0.9792\n",
            "#630 Accuracy: 0.9793333333333333\n",
            "#640 Accuracy: 0.9790666666666666\n",
            "#650 Accuracy: 0.9793\n",
            "#660 Accuracy: 0.9792666666666666\n",
            "#670 Accuracy: 0.9792333333333333\n",
            "#680 Accuracy: 0.9790666666666666\n",
            "#690 Accuracy: 0.9792333333333333\n",
            "#700 Accuracy: 0.9793\n",
            "#710 Accuracy: 0.9797\n",
            "#720 Accuracy: 0.9793666666666667\n",
            "#730 Accuracy: 0.9793\n",
            "#740 Accuracy: 0.9792666666666666\n",
            "#750 Accuracy: 0.9794333333333334\n",
            "#760 Accuracy: 0.9795\n",
            "#770 Accuracy: 0.9792333333333333\n",
            "#780 Accuracy: 0.9793666666666667\n",
            "#790 Accuracy: 0.9793333333333333\n",
            "#800 Accuracy: 0.9791666666666666\n",
            "#810 Accuracy: 0.9794\n",
            "#820 Accuracy: 0.9794333333333334\n",
            "#830 Accuracy: 0.9794333333333334\n",
            "#840 Accuracy: 0.9793333333333333\n",
            "#850 Accuracy: 0.9794666666666667\n",
            "#860 Accuracy: 0.9792333333333333\n",
            "#870 Accuracy: 0.9793666666666667\n",
            "#880 Accuracy: 0.9794\n",
            "#890 Accuracy: 0.9793\n",
            "#900 Accuracy: 0.9794333333333334\n",
            "#910 Accuracy: 0.9795666666666667\n",
            "#920 Accuracy: 0.9795666666666667\n",
            "#930 Accuracy: 0.9792333333333333\n",
            "#940 Accuracy: 0.9793333333333333\n",
            "#950 Accuracy: 0.9792666666666666\n",
            "#960 Accuracy: 0.9792333333333333\n",
            "#970 Accuracy: 0.9793666666666667\n",
            "#980 Accuracy: 0.9794666666666667\n",
            "#990 Accuracy: 0.9795\n",
            "#1000 Accuracy: 0.9793\n"
          ]
        }
      ],
      "source": [
        "n = []\n",
        "accuracy = []\n",
        "for i in range(10, 1001, 10):\n",
        "    clf=RandomForestClassifier(n_estimators=i)\n",
        "    clf.fit(X_train,y_train)\n",
        "    y_pred=clf.predict(X_test)\n",
        "    print(f\"#{i} Accuracy:\",metrics.accuracy_score(y_test, y_pred))\n",
        "    n.append(i)\n",
        "    accuracy.append(metrics.accuracy_score(y_test, y_pred))"
      ]
    },
    {
      "cell_type": "code",
      "execution_count": 11,
      "metadata": {
        "colab": {
          "base_uri": "https://localhost:8080/"
        },
        "id": "jmdb3OrDPigc",
        "outputId": "a96726ff-6b54-40ce-f36b-d8ba4fc67ec2"
      },
      "outputs": [
        {
          "data": {
            "text/plain": [
              "0.9797"
            ]
          },
          "execution_count": 11,
          "metadata": {},
          "output_type": "execute_result"
        }
      ],
      "source": [
        "max(accuracy)\n",
        "# accuracy = 0.9797"
      ]
    },
    {
      "cell_type": "code",
      "execution_count": null,
      "metadata": {
        "id": "CQmD9-w_H_kN"
      },
      "outputs": [],
      "source": [
        "n.iloc(max(accuracy))\n",
        "# n = 260 "
      ]
    },
    {
      "cell_type": "code",
      "execution_count": null,
      "metadata": {
        "id": "nhDH2aIspVKv"
      },
      "outputs": [],
      "source": [
        "# Trial 2\n",
        "# Using grid search to find the optimal paramerts"
      ]
    },
    {
      "cell_type": "code",
      "execution_count": 21,
      "metadata": {
        "id": "uZMtr5gDkdhF"
      },
      "outputs": [],
      "source": [
        "# Random forest with Grid Search for paramerts tuning\n",
        "rfc = RandomForestClassifier()\n",
        "parameters = {\n",
        "    \"n_estimators\":[5,10,50,100,250],\n",
        "    \"max_depth\":[2,4,8,16,32,None]\n",
        "}"
      ]
    },
    {
      "cell_type": "code",
      "execution_count": 22,
      "metadata": {
        "colab": {
          "base_uri": "https://localhost:8080/"
        },
        "id": "TKgvKNrwkoH6",
        "outputId": "59c5307d-30f5-4975-f41c-ba253a30a7f6"
      },
      "outputs": [
        {
          "data": {
            "text/plain": [
              "GridSearchCV(cv=5, estimator=RandomForestClassifier(),\n",
              "             param_grid={'max_depth': [2, 4, 8, 16, 32, None],\n",
              "                         'n_estimators': [5, 10, 50, 100, 250]})"
            ]
          },
          "execution_count": 22,
          "metadata": {},
          "output_type": "execute_result"
        }
      ],
      "source": [
        "cv = GridSearchCV(rfc, parameters, cv=5)\n",
        "cv.fit(X_train, y_train)"
      ]
    },
    {
      "cell_type": "code",
      "execution_count": 25,
      "metadata": {
        "colab": {
          "base_uri": "https://localhost:8080/"
        },
        "id": "dPvZGb4bksgw",
        "outputId": "e3691041-30bf-4b58-fc77-58fd9a96d0e6"
      },
      "outputs": [
        {
          "name": "stdout",
          "output_type": "stream",
          "text": [
            "0.977997852463188\n"
          ]
        }
      ],
      "source": [
        " # The highest accuracy achieved\n",
        "print(cv.best_score_)"
      ]
    },
    {
      "cell_type": "code",
      "execution_count": 26,
      "metadata": {
        "colab": {
          "base_uri": "https://localhost:8080/"
        },
        "id": "D_iX9-bek5GE",
        "outputId": "60147fac-9578-4b20-b7a4-71c7e8d8f8c8"
      },
      "outputs": [
        {
          "name": "stdout",
          "output_type": "stream",
          "text": [
            "{'max_depth': None, 'n_estimators': 250}\n"
          ]
        }
      ],
      "source": [
        " # The paramerts that yeild the best score\n",
        "print(cv.best_params_)"
      ]
    },
    {
      "cell_type": "markdown",
      "metadata": {
        "id": "xYdBOWftkZL1"
      },
      "source": [
        "Questions:\n",
        "- What is the best n?\n",
        "- how does random forest prevent overfitting? via bootstrap samples and bagging\n",
        "- what is rf bad at? can be black box, not so good at regression\n",
        "- what is rf good at?\n",
        "\n",
        "Observations:\n",
        "* Quick to compute (average computing time for different RF with different no of trees and depths is less than a min)\n",
        "* Diffrent value after each run though its close\n",
        "* Highest accuraccy (0.9799) when 250-260 tree and no max depth (20m)\n",
        "* 3h 1-1000 tress w max 0.9797\n",
        "* RF doesnt assume any distribution\n"
      ]
    },
    {
      "cell_type": "code",
      "execution_count": null,
      "metadata": {
        "id": "X4W-I1buwW9M"
      },
      "outputs": [],
      "source": [
        "# Trial 3\n",
        "# Trying different set of columns"
      ]
    },
    {
      "cell_type": "code",
      "execution_count": 36,
      "metadata": {
        "id": "31hZqsHbxes4"
      },
      "outputs": [],
      "source": [
        "# read the dataset\n",
        "df = pd.read_csv('./star_classification 2.csv')\n",
        "\n",
        "# encode values for class column\n",
        "df.replace({'class': {'GALAXY': 0, 'STAR': 1, 'QSO':2}}, inplace=True)\n",
        "\n",
        "# remove unneeded columns\n",
        "cleaned = df.drop(['spec_obj_ID','run_ID', 'field_ID', 'plate', 'MJD'], axis=1)\n",
        "\n",
        "cleaned = cleaned.reset_index()\n",
        "\n",
        "# make the X and y varialbes\n",
        "X = cleaned.drop('class', axis=1)\n",
        "y = cleaned['class']\n",
        "\n",
        "# split the dataset\n",
        "X_train, X_test, y_train, y_test = train_test_split(X, y, train_size=0.7, random_state=123)"
      ]
    },
    {
      "cell_type": "code",
      "execution_count": 39,
      "metadata": {
        "id": "bwqhAgUEx5ci"
      },
      "outputs": [],
      "source": [
        "# Random forest with Grid Search for paramerts tuning\n",
        "rfc = RandomForestClassifier()\n",
        "parameters = {\n",
        "    \"n_estimators\":[5,10,50,100,250],\n",
        "    \"max_depth\":[2,4,8,16,32,None]\n",
        "}"
      ]
    },
    {
      "cell_type": "code",
      "execution_count": 40,
      "metadata": {
        "colab": {
          "base_uri": "https://localhost:8080/"
        },
        "id": "77O-1RolyTwq",
        "outputId": "2f215f92-9c1e-45af-c2c6-6d310e0cde4d"
      },
      "outputs": [
        {
          "data": {
            "text/plain": [
              "GridSearchCV(cv=5, estimator=RandomForestClassifier(),\n",
              "             param_grid={'max_depth': [2, 4, 8, 16, 32, None],\n",
              "                         'n_estimators': [5, 10, 50, 100, 250]})"
            ]
          },
          "execution_count": 40,
          "metadata": {},
          "output_type": "execute_result"
        }
      ],
      "source": [
        "cv = GridSearchCV(rfc, parameters, cv=5)\n",
        "cv.fit(X_train, y_train)"
      ]
    },
    {
      "cell_type": "code",
      "execution_count": 41,
      "metadata": {
        "colab": {
          "base_uri": "https://localhost:8080/"
        },
        "id": "5Oze1lOr0e8P",
        "outputId": "f39eb5a8-4766-402a-951a-964c45deb7de"
      },
      "outputs": [
        {
          "name": "stdout",
          "output_type": "stream",
          "text": [
            "0.9767428571428571\n"
          ]
        }
      ],
      "source": [
        " # The highest accuracy achieved\n",
        "print(cv.best_score_)"
      ]
    },
    {
      "cell_type": "code",
      "execution_count": 42,
      "metadata": {
        "colab": {
          "base_uri": "https://localhost:8080/"
        },
        "id": "LlgF0taR0hVF",
        "outputId": "af3884f0-68f9-47f0-85ad-adc492147fde"
      },
      "outputs": [
        {
          "name": "stdout",
          "output_type": "stream",
          "text": [
            "{'max_depth': None, 'n_estimators': 100}\n"
          ]
        }
      ],
      "source": [
        " # The paramerts that yeild the best score\n",
        "print(cv.best_params_)"
      ]
    },
    {
      "cell_type": "code",
      "execution_count": null,
      "metadata": {
        "id": "MuYVBqw40h2O"
      },
      "outputs": [],
      "source": []
    }
  ],
  "metadata": {
    "accelerator": "GPU",
    "colab": {
      "collapsed_sections": [],
      "name": "Random_forest.ipynb",
      "provenance": []
    },
    "gpuClass": "standard",
    "kernelspec": {
      "display_name": "Python 3",
      "name": "python3"
    },
    "language_info": {
      "name": "python"
    }
  },
  "nbformat": 4,
  "nbformat_minor": 0
}
